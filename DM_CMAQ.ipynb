{
 "cells": [
  {
   "cell_type": "code",
   "execution_count": null,
   "metadata": {},
   "outputs": [],
   "source": [
    "########## Step 1 Module and Parameters ##########\n",
    "import torch\n",
    "from torch import nn\n",
    "from torch.nn import functional as F\n",
    "from torch.utils.data import DataLoader,Dataset\n",
    "from diffusers import DDPMScheduler, UNet2DModel \n",
    "from matplotlib import pyplot as plt\n",
    "import pandas as pd\n",
    "import numpy as np\n",
    "import sqlalchemy\n",
    "from sklearn.preprocessing import StandardScaler\n",
    "import os\n",
    "import Engine.Model_S\n",
    "import Engine.Model_M\n",
    "import Engine.solver\n",
    "from Engine.DATALOADER import build_dataloader_S, build_dataloader_M, UnNorm\n",
    "\n",
    "class Args_Example:\n",
    "    def __init__(self) -> None:\n",
    "        self.device =torch.device(\"cuda\" if torch.cuda.is_available() else \"cpu\")\n",
    "        print(f'Using device:{self.device}')\n",
    "        self.save_dir = './results_CMAQ'\n",
    "        self.checkpoint_model_dir = './chekcpoint/{modelfile}.pth' # model for sampling\n",
    "        self.checkpoint_dir = './chekcpoint'\n",
    "        self.input_dir = '{datapath}'  # .npy file with shape (timepoints,channels,width,length)\n",
    "        self.multistep = 6             # steps of multistep verification in he training process\n",
    "        self.width = 128\n",
    "        self.length = 128\n",
    "        self.seq_len = 1\n",
    "        self.window = 2\n",
    "        self.train_timestep = 24*361-73\n",
    "        self.test_timestep = 24*4\n",
    "        self.layers = 44\n",
    "        self.channels = 66\n",
    "        self.n_epoch = 50              # fewer for multistep verification in he training process\n",
    "        self.gpu = 0\n",
    "        self.ddimsteps = 10     \n",
    "        self.batch_size = 32\n",
    "        self.mode = None\n",
    "        os.makedirs(self.save_dir, exist_ok=True)\n",
    "        os.makedirs(self.checkpoint_dir, exist_ok=True)\n",
    "args =  Args_Example() "
   ]
  },
  {
   "cell_type": "code",
   "execution_count": null,
   "metadata": {},
   "outputs": [],
   "source": [
    "########## Step 2 Train Diffusion Model (SingleStep) ##########\n",
    "args.mode = 'train'\n",
    "args.pmode = 'single'\n",
    "model = Engine.Model_S.DDPM(args).to(args.device)\n",
    "train_dataloader, scaler = build_dataloader_S(args)\n",
    "Trainer = Engine.solver.Trainer(args, model, dataloader=train_dataloader)\n",
    "print('Start Training......')\n",
    "losses = Trainer.train_single()\n",
    "print(len(losses))\n",
    "print('Training Done!')\n",
    "# Loss function\n",
    "print(losses)\n",
    "plt.plot(losses)\n",
    "plt.ylim(0, 1)\n",
    "plt.savefig(f\"{args.save_dir}/loss_SingleStep.png\", dpi=300, bbox_inches='tight')\n",
    "print('Step 2 Done!')\n",
    "losses = np.array(losses)\n",
    "np.save(f'{args.save_dir}/loss_SingleStep.npy',losses)"
   ]
  },
  {
   "cell_type": "code",
   "execution_count": null,
   "metadata": {},
   "outputs": [],
   "source": [
    "########## Step 2 Train Diffusion Model (MultiStep) ##########\n",
    "args.mode = 'train'\n",
    "args.pmode = 'multi'\n",
    "args.R2 = np.load(f'{args.save_dir}/R2_pretrain.npy')[:(args.multistep)]\n",
    "train_dataloader,aconc,weather = build_dataloader_M(args)\n",
    "model = Engine.Model_M.DDPM(args,torch.tensor(aconc, dtype=torch.float32),torch.tensor(weather, dtype=torch.float32)).to(args.device)\n",
    "Trainer = Engine.solver.Trainer(args, model, dataloader=train_dataloader)\n",
    "print('Start Training......')\n",
    "losses = Trainer.train_multi()\n",
    "print(len(losses))\n",
    "print('Training Done!')\n",
    "\n",
    "# Loss function\n",
    "plt.plot(losses)\n",
    "plt.ylim(0, 1)\n",
    "plt.savefig(f\"{args.save_dir}/loss_MultiStep.png\", dpi=300, bbox_inches='tight')\n",
    "print('Step 2 Done!')\n",
    "losses = np.array(losses)\n",
    "np.save(f'{args.save_dir}/loss_MultiStep.npy',losses)"
   ]
  },
  {
   "cell_type": "code",
   "execution_count": null,
   "metadata": {},
   "outputs": [],
   "source": [
    "########## Step 3 Sampling (SingleStep) ########## \n",
    "args.mode = 'sampling'\n",
    "args.pmode = 'single'\n",
    "model = Engine.Model_S.DDPM(args).to(args.device)\n",
    "test_dataloader, scaler = build_dataloader_S(args)\n",
    "Trainer = Engine.solver.Trainer(args, model, dataloader=test_dataloader)\n",
    "real, sample = Trainer.sampling_single()\n",
    "sample, real = UnNorm(sample, real, scaler)\n",
    "np.savez(f'{args.save_dir}/prediction_ddpm_ss.npz', sample=sample, real=real)\n",
    "print('Step 3 Done!')"
   ]
  },
  {
   "cell_type": "code",
   "execution_count": null,
   "metadata": {},
   "outputs": [],
   "source": [
    "########## Step 3 Sampling (MuliStep) ########## \n",
    "args.mode = 'sampling'\n",
    "args.pmode = 'multi'\n",
    "model = Engine.Model_M.DDPM(args).to(args.device)\n",
    "first,real,data,scaler = build_dataloader_M(args)\n",
    "real = np.array(real).astype(np.float32)\n",
    "sample = model.Reverse(data,first)\n",
    "sample, real = UnNorm(sample, real, scaler)\n",
    "np.savez(f'{args.save_dir}/prediction_ddpm_cc.npz', sample=sample, real=real)\n",
    "print('Step 3 Done!')"
   ]
  }
 ],
 "metadata": {
  "kernelspec": {
   "display_name": "Python 3.12.2 64-bit ('mypython3')",
   "language": "python",
   "name": "python3"
  },
  "language_info": {
   "codemirror_mode": {
    "name": "ipython",
    "version": 3
   },
   "file_extension": ".py",
   "mimetype": "text/x-python",
   "name": "python",
   "nbconvert_exporter": "python",
   "pygments_lexer": "ipython3",
   "version": "3.12.2"
  },
  "orig_nbformat": 4,
  "vscode": {
   "interpreter": {
    "hash": "6577a6a3596c3420e2df476934f1c609ba211d6982f41f63ee5ab46b3005f95a"
   }
  }
 },
 "nbformat": 4,
 "nbformat_minor": 2
}
